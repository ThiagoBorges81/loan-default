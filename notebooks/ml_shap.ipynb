{
 "cells": [
  {
   "cell_type": "markdown",
   "metadata": {},
   "source": [
    "# Libraries"
   ]
  },
  {
   "cell_type": "code",
   "execution_count": 1,
   "metadata": {},
   "outputs": [],
   "source": [
    "import pandas               as pd\n",
    "import numpy                as np\n",
    "import seaborn              as sns\n",
    "import matplotlib.pyplot    as plt\n",
    "import yaml\n",
    "\n",
    "from IPython.core.display   import HTML\n",
    "from IPython.display        import Image\n",
    "\n",
    "from sklearn                import model_selection as ms\n",
    "\n",
    "plt.rcParams[\"figure.figsize\"]=12,8\n",
    "pd.set_option('display.max_columns',30)"
   ]
  },
  {
   "cell_type": "markdown",
   "metadata": {},
   "source": [
    "# Auxiliary functions"
   ]
  },
  {
   "cell_type": "code",
   "execution_count": 2,
   "metadata": {},
   "outputs": [],
   "source": [
    "def import_config(path_yaml):\n",
    "    \"\"\"\n",
    "    Load a YAML configuration file and return its contents as a dictionary.\n",
    "\n",
    "    Parameters:\n",
    "    path_yaml (str): Path to the YAML configuration file.\n",
    "\n",
    "    Returns:\n",
    "    dict: A dictionary containing the configuration data loaded from the YAML file.\n",
    "\n",
    "    Raises:\n",
    "    FileNotFoundError: If the specified YAML file does not exist.\n",
    "    yaml.YAMLError: If there is an error while parsing the YAML file.\n",
    "\n",
    "    Example:\n",
    "    If 'config.yaml' contains:\n",
    "    ```\n",
    "    key1: value1\n",
    "    key2: value2\n",
    "    ```\n",
    "    Calling import_config('config.yaml') will return:\n",
    "    {'key1': 'value1', 'key2': 'value2'}\n",
    "    \"\"\"\n",
    "    try:\n",
    "        with open(path_yaml, 'r') as config_file:\n",
    "            config = yaml.safe_load(config_file)\n",
    "    except FileNotFoundError:\n",
    "        raise FileNotFoundError(f\"YAML file not found at path: {path_yaml}\")\n",
    "    except yaml.YAMLError as e:\n",
    "        raise yaml.YAMLError(f\"Error parsing YAML file: {e}\")\n",
    "\n",
    "    return config\n"
   ]
  },
  {
   "cell_type": "markdown",
   "metadata": {},
   "source": [
    "# 1.0. IMPORT DATA AND CONFIG"
   ]
  },
  {
   "cell_type": "markdown",
   "metadata": {},
   "source": [
    "## 1.1. CONFIG"
   ]
  },
  {
   "cell_type": "code",
   "execution_count": 3,
   "metadata": {},
   "outputs": [],
   "source": [
    "config = import_config('config.yaml')"
   ]
  },
  {
   "cell_type": "markdown",
   "metadata": {},
   "source": [
    "## 1.2. DATA"
   ]
  },
  {
   "cell_type": "code",
   "execution_count": 4,
   "metadata": {},
   "outputs": [
    {
     "data": {
      "text/html": [
       "<div>\n",
       "<style scoped>\n",
       "    .dataframe tbody tr th:only-of-type {\n",
       "        vertical-align: middle;\n",
       "    }\n",
       "\n",
       "    .dataframe tbody tr th {\n",
       "        vertical-align: top;\n",
       "    }\n",
       "\n",
       "    .dataframe thead th {\n",
       "        text-align: right;\n",
       "    }\n",
       "</style>\n",
       "<table border=\"1\" class=\"dataframe\">\n",
       "  <thead>\n",
       "    <tr style=\"text-align: right;\">\n",
       "      <th></th>\n",
       "      <th>escolaridade</th>\n",
       "      <th>renda_mensal_informal</th>\n",
       "      <th>dependentes</th>\n",
       "      <th>estado_civil</th>\n",
       "      <th>idade</th>\n",
       "      <th>conta_poupanca</th>\n",
       "      <th>conta_salario</th>\n",
       "      <th>qtd_fonte_renda</th>\n",
       "      <th>cheque_sem_fundo</th>\n",
       "      <th>conta_conjunta</th>\n",
       "      <th>valor_conta_corrente</th>\n",
       "      <th>valor_conta_poupanca</th>\n",
       "      <th>valor_emprestimo</th>\n",
       "      <th>multa</th>\n",
       "      <th>juros</th>\n",
       "      <th>valor_emprestimo_atualizado</th>\n",
       "      <th>pago</th>\n",
       "      <th>id</th>\n",
       "      <th>genero</th>\n",
       "      <th>data</th>\n",
       "      <th>estado</th>\n",
       "    </tr>\n",
       "  </thead>\n",
       "  <tbody>\n",
       "    <tr>\n",
       "      <th>0</th>\n",
       "      <td>NaN</td>\n",
       "      <td>NaN</td>\n",
       "      <td>S</td>\n",
       "      <td>solteiro</td>\n",
       "      <td>36</td>\n",
       "      <td>S</td>\n",
       "      <td>N</td>\n",
       "      <td>NaN</td>\n",
       "      <td>S</td>\n",
       "      <td>N</td>\n",
       "      <td>NaN</td>\n",
       "      <td>NaN</td>\n",
       "      <td>8174.32</td>\n",
       "      <td>263.25</td>\n",
       "      <td>5844.98</td>\n",
       "      <td>14282.55</td>\n",
       "      <td>sim</td>\n",
       "      <td>309652396</td>\n",
       "      <td>feminino</td>\n",
       "      <td>2020-01-01</td>\n",
       "      <td>minas gerais</td>\n",
       "    </tr>\n",
       "    <tr>\n",
       "      <th>1</th>\n",
       "      <td>nivel medio</td>\n",
       "      <td>1894.5078</td>\n",
       "      <td>N</td>\n",
       "      <td>solteiro</td>\n",
       "      <td>39</td>\n",
       "      <td>S</td>\n",
       "      <td>N</td>\n",
       "      <td>1.0</td>\n",
       "      <td>N</td>\n",
       "      <td>N</td>\n",
       "      <td>NaN</td>\n",
       "      <td>NaN</td>\n",
       "      <td>41775.63</td>\n",
       "      <td>1607.29</td>\n",
       "      <td>7652.26</td>\n",
       "      <td>51035.18</td>\n",
       "      <td>sim</td>\n",
       "      <td>498764591</td>\n",
       "      <td>feminino</td>\n",
       "      <td>2020-01-01</td>\n",
       "      <td>espirito santo</td>\n",
       "    </tr>\n",
       "    <tr>\n",
       "      <th>2</th>\n",
       "      <td>nivel medio</td>\n",
       "      <td>NaN</td>\n",
       "      <td>S</td>\n",
       "      <td>solteiro</td>\n",
       "      <td>26</td>\n",
       "      <td>S</td>\n",
       "      <td>N</td>\n",
       "      <td>1.0</td>\n",
       "      <td>N</td>\n",
       "      <td>N</td>\n",
       "      <td>NaN</td>\n",
       "      <td>NaN</td>\n",
       "      <td>522940.27</td>\n",
       "      <td>24860.40</td>\n",
       "      <td>319315.62</td>\n",
       "      <td>867116.29</td>\n",
       "      <td>sim</td>\n",
       "      <td>504868288</td>\n",
       "      <td>masculino</td>\n",
       "      <td>2020-01-01</td>\n",
       "      <td>sao paulo</td>\n",
       "    </tr>\n",
       "    <tr>\n",
       "      <th>3</th>\n",
       "      <td>NaN</td>\n",
       "      <td>NaN</td>\n",
       "      <td>N</td>\n",
       "      <td>casado(a) com comunhao de bens</td>\n",
       "      <td>23</td>\n",
       "      <td>N</td>\n",
       "      <td>N</td>\n",
       "      <td>NaN</td>\n",
       "      <td>S</td>\n",
       "      <td>N</td>\n",
       "      <td>NaN</td>\n",
       "      <td>NaN</td>\n",
       "      <td>1418.00</td>\n",
       "      <td>21472.36</td>\n",
       "      <td>2967.48</td>\n",
       "      <td>25857.84</td>\n",
       "      <td>sim</td>\n",
       "      <td>541365315</td>\n",
       "      <td>feminino</td>\n",
       "      <td>2020-01-01</td>\n",
       "      <td>sao paulo</td>\n",
       "    </tr>\n",
       "    <tr>\n",
       "      <th>4</th>\n",
       "      <td>NaN</td>\n",
       "      <td>NaN</td>\n",
       "      <td>S</td>\n",
       "      <td>solteiro</td>\n",
       "      <td>33</td>\n",
       "      <td>S</td>\n",
       "      <td>N</td>\n",
       "      <td>NaN</td>\n",
       "      <td>S</td>\n",
       "      <td>N</td>\n",
       "      <td>NaN</td>\n",
       "      <td>NaN</td>\n",
       "      <td>2078.97</td>\n",
       "      <td>19.44</td>\n",
       "      <td>46.35</td>\n",
       "      <td>2144.76</td>\n",
       "      <td>sim</td>\n",
       "      <td>563622907</td>\n",
       "      <td>masculino</td>\n",
       "      <td>2020-01-01</td>\n",
       "      <td>espirito santo</td>\n",
       "    </tr>\n",
       "  </tbody>\n",
       "</table>\n",
       "</div>"
      ],
      "text/plain": [
       "  escolaridade  renda_mensal_informal dependentes  \\\n",
       "0          NaN                    NaN           S   \n",
       "1  nivel medio              1894.5078           N   \n",
       "2  nivel medio                    NaN           S   \n",
       "3          NaN                    NaN           N   \n",
       "4          NaN                    NaN           S   \n",
       "\n",
       "                     estado_civil  idade conta_poupanca conta_salario  \\\n",
       "0                        solteiro     36              S             N   \n",
       "1                        solteiro     39              S             N   \n",
       "2                        solteiro     26              S             N   \n",
       "3  casado(a) com comunhao de bens     23              N             N   \n",
       "4                        solteiro     33              S             N   \n",
       "\n",
       "   qtd_fonte_renda cheque_sem_fundo conta_conjunta  valor_conta_corrente  \\\n",
       "0              NaN                S              N                   NaN   \n",
       "1              1.0                N              N                   NaN   \n",
       "2              1.0                N              N                   NaN   \n",
       "3              NaN                S              N                   NaN   \n",
       "4              NaN                S              N                   NaN   \n",
       "\n",
       "   valor_conta_poupanca  valor_emprestimo     multa      juros  \\\n",
       "0                   NaN           8174.32    263.25    5844.98   \n",
       "1                   NaN          41775.63   1607.29    7652.26   \n",
       "2                   NaN         522940.27  24860.40  319315.62   \n",
       "3                   NaN           1418.00  21472.36    2967.48   \n",
       "4                   NaN           2078.97     19.44      46.35   \n",
       "\n",
       "   valor_emprestimo_atualizado pago         id     genero        data  \\\n",
       "0                     14282.55  sim  309652396   feminino  2020-01-01   \n",
       "1                     51035.18  sim  498764591   feminino  2020-01-01   \n",
       "2                    867116.29  sim  504868288  masculino  2020-01-01   \n",
       "3                     25857.84  sim  541365315   feminino  2020-01-01   \n",
       "4                      2144.76  sim  563622907  masculino  2020-01-01   \n",
       "\n",
       "           estado  \n",
       "0    minas gerais  \n",
       "1  espirito santo  \n",
       "2       sao paulo  \n",
       "3       sao paulo  \n",
       "4  espirito santo  "
      ]
     },
     "execution_count": 4,
     "metadata": {},
     "output_type": "execute_result"
    }
   ],
   "source": [
    "df_raw = pd.read_csv(config['data']['raw_path'])\n",
    "df_raw.head()"
   ]
  },
  {
   "cell_type": "markdown",
   "metadata": {},
   "source": [
    "### 1.2.1. Split Data"
   ]
  },
  {
   "cell_type": "markdown",
   "metadata": {},
   "source": [
    "#### 1.2.1.1. Split data: base and test"
   ]
  },
  {
   "cell_type": "code",
   "execution_count": 5,
   "metadata": {},
   "outputs": [
    {
     "name": "stdout",
     "output_type": "stream",
     "text": [
      "Dimension of split data\n",
      "X_base:(42831, 20)\n",
      "y_base:(42831,)\n",
      "X_test:(7559, 20)\n",
      "y_test:(7559,)\n",
      "\n"
     ]
    }
   ],
   "source": [
    "X = df_raw.drop('pago', axis = 1)\n",
    "y = df_raw['pago'].copy()\n",
    "\n",
    "X_base,X_test, y_base, y_test = ms.train_test_split(X, y, test_size=0.15, stratify=y, shuffle=True)\n",
    "\n",
    "df_test = pd.concat([X_test, y_test], axis = 1)\n",
    "\n",
    "print(\"Dimension of split data\")\n",
    "print(f'X_base:{X_base.shape}\\ny_base:{y_base.shape}\\nX_test:{X_test.shape}\\ny_test:{y_test.shape}\\n')"
   ]
  },
  {
   "cell_type": "markdown",
   "metadata": {},
   "source": [
    "#### 1.2.1.2. Split data: train and validation sets"
   ]
  },
  {
   "cell_type": "code",
   "execution_count": 6,
   "metadata": {},
   "outputs": [
    {
     "name": "stdout",
     "output_type": "stream",
     "text": [
      "Dimension of split base into train and validation sets\n",
      "X_train:(36406, 20)\n",
      "y_train:(36406,)\n",
      "X_val:(6425, 20)\n",
      "y_val:(6425,)\n",
      "\n"
     ]
    }
   ],
   "source": [
    "base = pd.concat([X_base, y_base], axis = 1)\n",
    "\n",
    "X = base.drop('pago', axis = 1)\n",
    "y = base['pago'].copy()\n",
    "\n",
    "X_train, X_val, y_train, y_val = ms.train_test_split(X,y, test_size = 0.15,stratify=y, shuffle=True)\n",
    "\n",
    "print(\"Dimension of split base into train and validation sets\")\n",
    "print(f'X_train:{X_train.shape}\\ny_train:{y_train.shape}\\nX_val:{X_val.shape}\\ny_val:{y_val.shape}\\n')\n",
    "\n",
    "df1_train = pd.concat([X_train, y_train], axis = 1)\n",
    "df1_val = pd.concat([X_val, y_val], axis = 1)"
   ]
  }
 ],
 "metadata": {
  "kernelspec": {
   "display_name": "shap_ml",
   "language": "python",
   "name": "python3"
  },
  "language_info": {
   "codemirror_mode": {
    "name": "ipython",
    "version": 3
   },
   "file_extension": ".py",
   "mimetype": "text/x-python",
   "name": "python",
   "nbconvert_exporter": "python",
   "pygments_lexer": "ipython3",
   "version": "3.10.4"
  }
 },
 "nbformat": 4,
 "nbformat_minor": 2
}
